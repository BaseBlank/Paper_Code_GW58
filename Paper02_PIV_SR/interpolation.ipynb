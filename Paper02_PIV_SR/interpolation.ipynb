{
 "cells": [
  {
   "cell_type": "code",
   "execution_count": 2,
   "metadata": {
    "collapsed": true,
    "pycharm": {
     "name": "#%%\n"
    }
   },
   "outputs": [],
   "source": [
    "import cv2\n",
    "import numpy as np\n",
    "import math"
   ]
  },
  {
   "cell_type": "code",
   "execution_count": 3,
   "outputs": [
    {
     "data": {
      "text/plain": "(591, 474, 3)"
     },
     "execution_count": 3,
     "metadata": {},
     "output_type": "execute_result"
    }
   ],
   "source": [
    "path = \"C:\\\\Users\\\\1\\\\Desktop\\\\picture\\\\coffe.jpg\"  # \"C:/Users/1/Desktop/picture/Venti/Venti.jpg\"\n",
    "img_l = cv2.imread(path)\n",
    "\n",
    "path_GT = \"C:/Users/1/Desktop/picture/Venti/Venti_GT.jpg\"\n",
    "img_h = cv2.imread(path_GT)\n",
    "\n",
    "img_l.shape  # 行，列"
   ],
   "metadata": {
    "collapsed": false,
    "pycharm": {
     "name": "#%%\n"
    }
   }
  },
  {
   "cell_type": "code",
   "execution_count": 4,
   "outputs": [
    {
     "data": {
      "text/plain": "(1182, 948, 3)"
     },
     "execution_count": 4,
     "metadata": {},
     "output_type": "execute_result"
    }
   ],
   "source": [
    "new_data_HR_3D = cv2.resize(img_l,\n",
    "                                    dsize=None,\n",
    "                                    fx=2,\n",
    "                                    fy=2,\n",
    "                                    interpolation=cv2.INTER_LINEAR)\n",
    "new_data_HR_3D.shape"
   ],
   "metadata": {
    "collapsed": false,
    "pycharm": {
     "name": "#%%\n"
    }
   }
  },
  {
   "cell_type": "code",
   "execution_count": null,
   "outputs": [],
   "source": [
    "# 最近邻插值算法\n",
    "size = (2400, 2400)\n",
    "new_img_NEAREST = cv2.resize(img_l, size, interpolation=cv2.INTER_NEAREST)\n",
    "cv2.imwrite(\"C:/Users/1/Desktop/picture/Venti/Venti_H_INTER_NEAREST.jpg\", new_img_NEAREST)"
   ],
   "metadata": {
    "collapsed": false,
    "pycharm": {
     "name": "#%%\n"
    }
   }
  },
  {
   "cell_type": "code",
   "execution_count": 36,
   "outputs": [
    {
     "data": {
      "text/plain": "True"
     },
     "execution_count": 36,
     "metadata": {},
     "output_type": "execute_result"
    }
   ],
   "source": [
    "# 最近邻插值算法\n",
    "size = (2400, 2400)\n",
    "new_img_NEAREST = cv2.resize(img_l, size, interpolation=cv2.INTER_NEAREST)\n",
    "cv2.imwrite(\"C:/Users/1/Desktop/picture/Venti/Venti_H_INTER_NEAREST.jpg\", new_img_NEAREST)"
   ],
   "metadata": {
    "collapsed": false,
    "pycharm": {
     "name": "#%%\n"
    }
   }
  },
  {
   "cell_type": "code",
   "execution_count": 37,
   "outputs": [
    {
     "data": {
      "text/plain": "True"
     },
     "execution_count": 37,
     "metadata": {},
     "output_type": "execute_result"
    }
   ],
   "source": [
    "# 双线性插值算法\n",
    "new_img_LINEAR = cv2.resize(img_l, size, interpolation=cv2.INTER_LINEAR)\n",
    "cv2.imwrite(\"C:/Users/1/Desktop/picture/Venti/Venti_H_INTER_LINEAR.jpg\", new_img_LINEAR)"
   ],
   "metadata": {
    "collapsed": false,
    "pycharm": {
     "name": "#%%\n"
    }
   }
  },
  {
   "cell_type": "code",
   "execution_count": 38,
   "outputs": [
    {
     "data": {
      "text/plain": "True"
     },
     "execution_count": 38,
     "metadata": {},
     "output_type": "execute_result"
    }
   ],
   "source": [
    "# 基于4px X 4px邻域的三次插值算法\n",
    "new_img_CUBIC = cv2.resize(img_l, size, interpolation=cv2.INTER_CUBIC)\n",
    "cv2.imwrite(\"C:/Users/1/Desktop/picture/Venti/Venti_H_INTER_CUBIC.jpg\", new_img_CUBIC)"
   ],
   "metadata": {
    "collapsed": false,
    "pycharm": {
     "name": "#%%\n"
    }
   }
  },
  {
   "cell_type": "code",
   "execution_count": 39,
   "outputs": [],
   "source": [
    "# compute PSNR\n",
    "def psnr(img1, img2):\n",
    "    mse = np.mean((img1-img2) ** 2)\n",
    "    if mse < 1.0e-10:\n",
    "        return 100\n",
    "    return 10 * math.log10(255.0**2 / mse)"
   ],
   "metadata": {
    "collapsed": false,
    "pycharm": {
     "name": "#%%\n"
    }
   }
  },
  {
   "cell_type": "code",
   "execution_count": 40,
   "outputs": [
    {
     "name": "stdout",
     "output_type": "stream",
     "text": [
      "INTER_NEAREST-最近邻插值 PSNR 30.207982912944278\n",
      "INTER_LINEAR-双线性插值 PSNR 30.23830465782856\n",
      "INTER_CUBIC-三次插值 PSNR 30.20907399890178\n"
     ]
    }
   ],
   "source": [
    "print('INTER_NEAREST-最近邻插值 PSNR',format(psnr(img_h, new_img_NEAREST)))\n",
    "print('INTER_LINEAR-双线性插值 PSNR',format(psnr(img_h, new_img_LINEAR)))\n",
    "print('INTER_CUBIC-三次插值 PSNR',format(psnr(img_h, new_img_CUBIC)))"
   ],
   "metadata": {
    "collapsed": false,
    "pycharm": {
     "name": "#%%\n"
    }
   }
  },
  {
   "cell_type": "code",
   "execution_count": 42,
   "outputs": [],
   "source": [
    "# Bicubic\n",
    "def base_function(x, a=-0.5):\n",
    "    Wx = 0\n",
    "    if np.abs(x) <= 1:\n",
    "        Wx = (a+2) * (np.abs(x)**3) - (a+3)*(np.abs(x))**2 + 1\n",
    "    elif 1 <= np.abs(x) <= 2:\n",
    "        Wx = a * (np.abs(x)**3) - 5*a*(np.abs(x))**2 + 8*a*np.abs(x) - 4*a\n",
    "    else:\n",
    "        print('x的取值范围不正确')\n",
    "    return Wx\n",
    "\n",
    "def padding(img):\n",
    "    h, w, c = img.shape\n",
    "    print('图像的尺寸为 {}'.format(img.shape))\n",
    "    pad_imgge = np.zeros((h+4, w+4, c))\n",
    "    pad_imgge[2:h+2, 2:w+2] = img\n",
    "    return pad_imgge\n",
    "\n",
    "def bicubic(img, sacle, a=-0.5):\n",
    "    print('Doing bicubic')\n",
    "    h, w, color = img.shape\n",
    "    img = padding(img)\n",
    "    nh = h * sacle\n",
    "    nw = h * sacle\n",
    "    new_img = np.zeros((nh, nw, color))\n",
    "\n",
    "    for c in range(color):\n",
    "        for i in range(nw):\n",
    "            for j in range(nh):\n",
    "                px = i / sacle + 2\n",
    "                py = j / sacle + 2\n",
    "                px_int = int(px)\n",
    "                py_int = int(py)\n",
    "                u = px - px_int\n",
    "                v = py - py_int\n",
    "\n",
    "                A = np.matrix([[base_function(u+1,a)],[base_function(u,a)],[base_function(u-1,a)],[base_function(u-2,a)]])\n",
    "                C = np.matrix([base_function(v+1,a),base_function(v,a),base_function(v-1,a),base_function(v-2,a)])\n",
    "                B = np.matrix([\n",
    "                    [img[py_int-1,px_int-1][c],img[py_int-1,px_int][c],img[py_int-1,px_int+1][c],img[py_int-1,px_int+2][c]],\n",
    "                    [img[py_int,px_int-1][c],img[py_int,px_int][c],img[py_int,px_int+1][c],img[py_int,px_int+2][c]],\n",
    "                    [img[py_int+1,px_int-1][c],img[py_int+1,px_int][c],img[py_int+1,px_int+1][c],img[py_int+1,px_int+2][c]],\n",
    "                    [img[py_int+2,px_int-1][c],img[py_int+2,px_int][c],img[py_int+2,px_int+1][c],img[py_int+2,px_int+2][c]]\n",
    "                ])\n",
    "                new_img[j, i][c] = np.dot(np.dot(C, B), A)\n",
    "    return new_img\n"
   ],
   "metadata": {
    "collapsed": false,
    "pycharm": {
     "name": "#%%\n"
    }
   }
  },
  {
   "cell_type": "code",
   "execution_count": 45,
   "outputs": [
    {
     "name": "stdout",
     "output_type": "stream",
     "text": [
      "INTER_BICUBIC-双三次插值 PSNR 20.30545923432966\n",
      "Doing bicubic\n",
      "图像的尺寸为 (300, 300, 3)\n",
      "INTER_BICUBIC-双三次插值 PSNR 20.30545923432966\n"
     ]
    }
   ],
   "source": [
    "sacle = 8\n",
    "path = \"C:/Users/1/Desktop/picture/Venti/Venti.jpg\"\n",
    "img = cv2.imread(path)\n",
    "new_img_BICBIC = bicubic(img, sacle)\n",
    "cv2.imwrite(\"C:/Users/1/Desktop/picture/Venti/Venti_H_INTER_BICBIC.jpg\", new_img_BICBIC)\n",
    "print('INTER_BICUBIC-双三次插值 PSNR',format(psnr(img_h, new_img_BICBIC)))"
   ],
   "metadata": {
    "collapsed": false,
    "pycharm": {
     "name": "#%%\n"
    }
   }
  }
 ],
 "metadata": {
  "kernelspec": {
   "display_name": "Python 3",
   "language": "python",
   "name": "python3"
  },
  "language_info": {
   "codemirror_mode": {
    "name": "ipython",
    "version": 2
   },
   "file_extension": ".py",
   "mimetype": "text/x-python",
   "name": "python",
   "nbconvert_exporter": "python",
   "pygments_lexer": "ipython2",
   "version": "2.7.6"
  }
 },
 "nbformat": 4,
 "nbformat_minor": 0
}